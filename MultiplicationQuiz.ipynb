{
 "cells": [
  {
   "cell_type": "code",
   "execution_count": 4,
   "id": "34eebe1c",
   "metadata": {},
   "outputs": [],
   "source": [
    "import pyinputplus as pyip\n",
    "import random,time\n"
   ]
  },
  {
   "cell_type": "code",
   "execution_count": 11,
   "id": "42c0bcf1",
   "metadata": {},
   "outputs": [
    {
     "name": "stdout",
     "output_type": "stream",
     "text": [
      "#0: 9 * 5 = 45\n",
      "correct answer\n",
      "#1: 3 * 5 = 15\n",
      "correct answer\n",
      "#2: 0 * 3 = 0\n",
      "correct answer\n",
      "#3: 6 * 2 = 12\n",
      "correct answer\n",
      "#4: 9 * 7 = 63\n",
      "correct answer\n",
      "#5: 5 * 5 = 25\n",
      "correct answer\n",
      "#6: 2 * 5 = 10\n",
      "correct answer\n",
      "#7: 5 * 9 = 45\n",
      "correct answer\n",
      "#8: 5 * 6 = 35\n",
      "Incorrect!\n",
      "#8: 5 * 6 = 30\n",
      "Sorry you are out of Time!\n",
      "#9: 8 * 3 = 24\n",
      "correct answer\n",
      "Score: 9 / 10\n"
     ]
    }
   ],
   "source": [
    "numberofquestions=10\n",
    "correctanswers=0\n",
    "\n",
    "for questionnumber in range(numberofquestions):\n",
    "    num1=random.randint(0,9)\n",
    "    num2=random.randint(0,9)\n",
    "    prompt='#%s: %s * %s = ' %(questionnumber, num1,num2)\n",
    "    try:\n",
    "        #right answers are handled by allowregexes\n",
    "        #wrong answers are handled by blockregexes\n",
    "        pyip.inputStr(prompt,allowRegexes=['^%s$' %(num1 * num2)], blockRegexes=[('.*','Incorrect!')],timeout=8,limit=3)\n",
    "    except pyip.TimeoutException:\n",
    "        print(\"Sorry you are out of Time!\")\n",
    "    except pyip.RetryLimitException:\n",
    "        print('Sorry you have only 3 tries')\n",
    "    else:\n",
    "        # This block rund if no exceptions are found in try block\n",
    "        print(\"correct answer\")  \n",
    "        correctanswers+=1\n",
    "    time.sleep(1)\n",
    "print(\"Score: %s / %s\" %(correctanswers,numberofquestions))\n",
    "\n",
    "        \n",
    "        \n",
    "        "
   ]
  },
  {
   "cell_type": "code",
   "execution_count": null,
   "id": "3eddc9af",
   "metadata": {},
   "outputs": [],
   "source": []
  }
 ],
 "metadata": {
  "kernelspec": {
   "display_name": "Python 3 (ipykernel)",
   "language": "python",
   "name": "python3"
  },
  "language_info": {
   "codemirror_mode": {
    "name": "ipython",
    "version": 3
   },
   "file_extension": ".py",
   "mimetype": "text/x-python",
   "name": "python",
   "nbconvert_exporter": "python",
   "pygments_lexer": "ipython3",
   "version": "3.10.9"
  }
 },
 "nbformat": 4,
 "nbformat_minor": 5
}
