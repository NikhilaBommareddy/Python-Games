{
 "cells": [
  {
   "cell_type": "code",
   "execution_count": 8,
   "id": "8759ffcb",
   "metadata": {},
   "outputs": [
    {
     "name": "stdout",
     "output_type": "stream",
     "text": [
      "Enter the english message to translate into pig latin:\n",
      "hi i am nikhila my age is \n",
      "ihay iYay amYay ikhilanay ymay ageYay isYay\n"
     ]
    }
   ],
   "source": [
    "# english to Pig latin\n",
    "print(\"Enter the english message to translate into pig latin:\")\n",
    "message=input()\n",
    "vowels=('a','e','i','o','u','y')\n",
    "piglatin=[]\n",
    "for word in message.split():\n",
    "    # separate the non letters at the start of the word\n",
    "    prefixnonletters=''\n",
    "    while len(word)>0 and not word[0].isalpha():\n",
    "        prefixnonletters+=word[0]\n",
    "        word=word[1:]\n",
    "    if len(word)==0:\n",
    "        piglatin.append(prefixnonletters)\n",
    "        continue\n",
    "        #separate the non letters at the end of this word:\n",
    "    suffixnonletters=''\n",
    "    while len(word)>0 and not word[-1].isalpha():\n",
    "        suffixnonletters+=word[-1]\n",
    "        word=word[:-1]\n",
    "      #remember if the word was in uppeercase or lowercase\n",
    "    wasupper=word.isupper()\n",
    "    wastitle=word.istitle()\n",
    "    word=word.lower()  # make the word lowercase for translation\n",
    "        #separate the consonants at the start of this word:\n",
    "    prefixconsonants=''\n",
    "    while len(word)>0 and not word[0] in vowels:\n",
    "        prefixconsonants+=word[0]\n",
    "        word=word[1:]\n",
    "     # add the pig latin ending to the word:\n",
    "    if prefixconsonants!='':\n",
    "        word+=prefixconsonants+'ay'\n",
    "    else:\n",
    "        word+='Yay'\n",
    "        #set the word back to uppercase or title case:\n",
    "    if wasupper:\n",
    "        word=word.upper()\n",
    "    if wastitle:\n",
    "        word=word.title()\n",
    "        # add the non letters back to the start or end of the word\n",
    "    piglatin.append(prefixnonletters+word+suffixnonletters)\n",
    "#join all the words back together into single string:\n",
    "print(' '.join(piglatin))\n"
   ]
  },
  {
   "cell_type": "code",
   "execution_count": 7,
   "id": "ac93b126",
   "metadata": {},
   "outputs": [
    {
     "data": {
      "text/plain": [
       "['Hi', 'i', 'am', 'nikhila']"
      ]
     },
     "execution_count": 7,
     "metadata": {},
     "output_type": "execute_result"
    }
   ],
   "source": [
    "message='Hi i am nikhila'\n",
    "message.split()"
   ]
  },
  {
   "cell_type": "code",
   "execution_count": null,
   "id": "1ed3aba1",
   "metadata": {},
   "outputs": [],
   "source": []
  }
 ],
 "metadata": {
  "kernelspec": {
   "display_name": "Python 3 (ipykernel)",
   "language": "python",
   "name": "python3"
  },
  "language_info": {
   "codemirror_mode": {
    "name": "ipython",
    "version": 3
   },
   "file_extension": ".py",
   "mimetype": "text/x-python",
   "name": "python",
   "nbconvert_exporter": "python",
   "pygments_lexer": "ipython3",
   "version": "3.10.9"
  }
 },
 "nbformat": 4,
 "nbformat_minor": 5
}
