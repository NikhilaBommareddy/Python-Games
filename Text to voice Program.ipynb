{
 "cells": [
  {
   "cell_type": "code",
   "execution_count": 3,
   "id": "d8f7740a",
   "metadata": {},
   "outputs": [
    {
     "name": "stdout",
     "output_type": "stream",
     "text": [
      "Enter the text to convert to voice: pradeepthi hello how are you\n"
     ]
    }
   ],
   "source": [
    "from gtts import gTTS\n",
    "import os\n",
    "import subprocess\n",
    "\n",
    "def txt_to_voice(text):\n",
    "    tts = gTTS(text=text)\n",
    "    save_path = \"C:/path/to/\"\n",
    "    file_name = \"Hello.wav\"\n",
    "    file_path = os.path.join(save_path, file_name)\n",
    "\n",
    "    os.makedirs(save_path, exist_ok=True)  \n",
    "    tts.save(file_path)\n",
    " \n",
    "    # Play the audio file using a subprocess\n",
    "    subprocess.call([\"start\", file_path], shell=True)\n",
    "\n",
    "text = input(\"Enter the text to convert to voice: \")\n",
    "txt_to_voice(text)\n"
   ]
  },
  {
   "cell_type": "code",
   "execution_count": null,
   "id": "b0013a88",
   "metadata": {},
   "outputs": [],
   "source": []
  }
 ],
 "metadata": {
  "kernelspec": {
   "display_name": "Python 3 (ipykernel)",
   "language": "python",
   "name": "python3"
  },
  "language_info": {
   "codemirror_mode": {
    "name": "ipython",
    "version": 3
   },
   "file_extension": ".py",
   "mimetype": "text/x-python",
   "name": "python",
   "nbconvert_exporter": "python",
   "pygments_lexer": "ipython3",
   "version": "3.10.9"
  }
 },
 "nbformat": 4,
 "nbformat_minor": 5
}
