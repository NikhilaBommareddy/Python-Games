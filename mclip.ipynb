{
 "cells": [
  {
   "cell_type": "code",
   "execution_count": 2,
   "id": "f07984ca",
   "metadata": {},
   "outputs": [
    {
     "name": "stdout",
     "output_type": "stream",
     "text": [
      "There is no text for-f\n"
     ]
    }
   ],
   "source": [
    "TEXT={'agree':\"\"\"Yes, I agree.That sounds fine to me\"\"\",\n",
    "       'busy':\"\"\"Sorry, can we do this later this week or next week?\"\"\",\n",
    "        'upsell':\"\"\"would you consider making this a monthly donation?\"\"\"}\n",
    "import sys,pyperclip\n",
    "if len(sys.argv)<2:\n",
    "    print(\"usage: python mclip.py[keyphrase]- copy phase text\")\n",
    "    sys.exit()\n",
    "keyphrase=sys.argv[1]\n",
    "\n",
    "if keyphrase in TEXT:\n",
    "    pyperclip.copy(TEXT[keyphrase])\n",
    "    print('text for '+ keyphrase + 'COPIED TO CLIPBOARD.')\n",
    "else:\n",
    "    print('There is no text for' + keyphrase)"
   ]
  },
  {
   "cell_type": "code",
   "execution_count": null,
   "id": "71b25641",
   "metadata": {},
   "outputs": [],
   "source": []
  }
 ],
 "metadata": {
  "kernelspec": {
   "display_name": "Python 3 (ipykernel)",
   "language": "python",
   "name": "python3"
  },
  "language_info": {
   "codemirror_mode": {
    "name": "ipython",
    "version": 3
   },
   "file_extension": ".py",
   "mimetype": "text/x-python",
   "name": "python",
   "nbconvert_exporter": "python",
   "pygments_lexer": "ipython3",
   "version": "3.10.9"
  }
 },
 "nbformat": 4,
 "nbformat_minor": 5
}
